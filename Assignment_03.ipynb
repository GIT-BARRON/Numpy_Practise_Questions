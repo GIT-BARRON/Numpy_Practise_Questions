{
 "cells": [
  {
   "cell_type": "code",
   "execution_count": 129,
   "id": "196d9181-60d5-4c52-849d-beda8d4ba7f8",
   "metadata": {},
   "outputs": [],
   "source": [
    "import numpy as np\n",
    "import pandas as pd\n",
    "import random as ra\n",
    "import numpy.matlib as nm\n",
    "import numpy.linalg as na"
   ]
  },
  {
   "cell_type": "code",
   "execution_count": 127,
   "id": "6b21184a-f567-4c33-943a-74fa007413e7",
   "metadata": {},
   "outputs": [
    {
     "name": "stdout",
     "output_type": "stream",
     "text": [
      "{'size': 36, 'Total Size in Bytes': 144}\n"
     ]
    }
   ],
   "source": [
    "# Q8\n",
    "def item_size(arr):\n",
    "    return({'size':arr.size,'Total Size in Bytes':arr.nbytes})\n",
    "    # Altenative method --> arr.itemsize*arr.size  (size of 1 element x the total numbers of elemnts)\n",
    "\n",
    "arr=np.random.randint(4,10,size=(4,9))\n",
    "print(f\"{item_size(arr)}\")"
   ]
  },
  {
   "cell_type": "code",
   "execution_count": 3,
   "id": "57d5a7d4-f8f6-4787-9869-df14a8402916",
   "metadata": {},
   "outputs": [
    {
     "name": "stdout",
     "output_type": "stream",
     "text": [
      "Stride of the Array \n",
      " [[8 8 4 4 8 5 9 4 8]\n",
      " [9 8 4 4 8 6 5 5 8]\n",
      " [7 5 7 4 6 6 5 9 4]\n",
      " [4 4 6 9 9 9 5 7 6]] \n",
      " In Bytes --> (36, 4)\n"
     ]
    }
   ],
   "source": [
    "# Q9\n",
    "\n",
    "def array_strides(arr):\n",
    "    return(arr.strides)\n",
    "    \n",
    "\n",
    "arr=np.random.randint(4,10,size=(4,9))\n",
    "print(f\"Stride of the Array \\n {arr} \\n In Bytes --> {array_strides(arr)}\")"
   ]
  },
  {
   "cell_type": "code",
   "execution_count": 4,
   "id": "54b59055-254e-4a7a-955c-b2bca447272f",
   "metadata": {},
   "outputs": [
    {
     "name": "stdout",
     "output_type": "stream",
     "text": [
      "{'Shape of Array': (4, 9), 'Stride of the Array': (36, 4)}\n"
     ]
    }
   ],
   "source": [
    "# Q10\n",
    "def shape_stride_relationship(arr):\n",
    "    return({'Shape of Array':arr.shape,'Stride of the Array':arr.strides})\n",
    "\n",
    "\n",
    "arr=np.random.randint(4,10,size=(4,9))\n",
    "print(f\"{shape_stride_relationship(arr)}\")"
   ]
  },
  {
   "cell_type": "code",
   "execution_count": 5,
   "id": "ab4934a1-d075-4ac0-a394-35dc74039ab2",
   "metadata": {},
   "outputs": [
    {
     "name": "stdout",
     "output_type": "stream",
     "text": [
      "Zero filled Array \n",
      " [0. 0. 0. 0. 0. 0. 0. 0. 0. 0. 0. 0.]\n"
     ]
    }
   ],
   "source": [
    "# Q11\n",
    "\n",
    "def create_zeros_arrays(n):\n",
    "    return(np.zeros(n))  # return an Numpy array of n elemnts filled with Zero's\n",
    "\n",
    "print(f\"Zero filled Array \\n {create_zeros_arrays(12)}\")"
   ]
  },
  {
   "cell_type": "code",
   "execution_count": 6,
   "id": "932725dc-eb24-45ff-90d2-edf38f6591bb",
   "metadata": {},
   "outputs": [
    {
     "name": "stdout",
     "output_type": "stream",
     "text": [
      "Ones filled Matrix \n",
      " [[1. 1. 1. 1. 1.]\n",
      " [1. 1. 1. 1. 1.]]\n"
     ]
    }
   ],
   "source": [
    "# Q12\n",
    "\n",
    "def create_ones_matrix(row,col):\n",
    "    return(np.ones((row,col)))  # returns a matrix filled with 1's\n",
    "\n",
    "print(f\"Ones filled Matrix \\n {create_ones_matrix(row=2,col=5)}\")"
   ]
  },
  {
   "cell_type": "code",
   "execution_count": 7,
   "id": "ea5b5747-622c-4037-b8dc-1cad7b1bf9a2",
   "metadata": {},
   "outputs": [
    {
     "name": "stdout",
     "output_type": "stream",
     "text": [
      "Ranged Numpy Array  \n",
      " [2 4 6 8]\n"
     ]
    }
   ],
   "source": [
    "# Q13\n",
    "def generate_range_array(start,stop,step=1):\n",
    "    return(np.arange(start,stop,step))\n",
    "\n",
    "print(f\"Ranged Numpy Array  \\n {generate_range_array(start=2,stop=10,step=2)}\")"
   ]
  },
  {
   "cell_type": "code",
   "execution_count": 8,
   "id": "6e784694-5aec-4ae6-91b8-f9a02bc395d8",
   "metadata": {},
   "outputs": [
    {
     "name": "stdout",
     "output_type": "stream",
     "text": [
      "Line_spaced array : \n",
      " [ 3.          3.77777778  4.55555556  5.33333333  6.11111111  6.88888889\n",
      "  7.66666667  8.44444444  9.22222222 10.        ]\n"
     ]
    }
   ],
   "source": [
    "# Q14\n",
    "def generate_linear_space(num,start,stop):\n",
    "    return np.linspace(start,stop,num)  # creating ecenly spaced intervals array\n",
    "\n",
    "print(f\"Line_spaced array : \\n {generate_linear_space(10,3,10)}\")\n"
   ]
  },
  {
   "cell_type": "code",
   "execution_count": 9,
   "id": "43da586e-694f-417d-ad18-b0662982f2e8",
   "metadata": {},
   "outputs": [
    {
     "name": "stdout",
     "output_type": "stream",
     "text": [
      "Identity Matrix : \n",
      " [[1. 0. 0. 0. 0. 0. 0.]\n",
      " [0. 1. 0. 0. 0. 0. 0.]\n",
      " [0. 0. 1. 0. 0. 0. 0.]\n",
      " [0. 0. 0. 1. 0. 0. 0.]\n",
      " [0. 0. 0. 0. 1. 0. 0.]\n",
      " [0. 0. 0. 0. 0. 1. 0.]\n",
      " [0. 0. 0. 0. 0. 0. 1.]]\n"
     ]
    }
   ],
   "source": [
    "#Q15\n",
    "\n",
    "def create_identity_matrix(n):\n",
    "    return(np.eye(n,k=0))  # creating identity matrix using eye function\n",
    "print(f\"Identity Matrix : \\n {create_identity_matrix(7)}\")\n"
   ]
  },
  {
   "cell_type": "code",
   "execution_count": 10,
   "id": "a0cf202b-310c-4257-888e-2f57d6ad420b",
   "metadata": {},
   "outputs": [
    {
     "name": "stdout",
     "output_type": "stream",
     "text": [
      "List version ---> [45, 23, 96, 45, 85, 12, 20, 3.3, 45, 69] \n",
      " Array Version : \n",
      " [45.  23.  96.  45.  85.  12.  20.   3.3 45.  69. ]\n"
     ]
    }
   ],
   "source": [
    "# Q16\n",
    "import copy\n",
    "\n",
    "def List_to_Numpyarray(lst):\n",
    "    return(np.asarray(lst,dtype=np.float32))\n",
    "\n",
    "my_lst=[45,23,96,45,85,12,20,3.3,45,69]\n",
    "print(f\"List version ---> {my_lst} \\n Array Version : \\n {List_to_Numpyarray(copy.deepcopy(my_lst))}\")"
   ]
  },
  {
   "cell_type": "code",
   "execution_count": 11,
   "id": "4f830b30-6b07-41f8-b853-c02a332acf8d",
   "metadata": {},
   "outputs": [
    {
     "name": "stdout",
     "output_type": "stream",
     "text": [
      "New_Array_Object : [45 23 96 45 85 12 20  3 45 69]\n"
     ]
    }
   ],
   "source": [
    "# Q17\n",
    "\n",
    "x=np.array([45,23,96,45,85,12,20,3.3,45,69],dtype=np.int16)\n",
    "new_array=x.view()\n",
    "print(f\"New_Array_Object : {new_array}\")"
   ]
  },
  {
   "cell_type": "code",
   "execution_count": 12,
   "id": "373f1c91-defd-437d-92d0-a8c928fe294a",
   "metadata": {},
   "outputs": [
    {
     "name": "stdout",
     "output_type": "stream",
     "text": [
      "Array 1 : \n",
      " [[7 8]\n",
      " [9 7]\n",
      " [9 9]] ,\n",
      " Array 2 : \n",
      " [[7 5]\n",
      " [7 5]\n",
      " [5 4]] , \n",
      "  Concatinate Along Horizontal Axis : \n",
      " [[7 8 7 5]\n",
      " [9 7 7 5]\n",
      " [9 9 5 4]]\n"
     ]
    }
   ],
   "source": [
    "# Q18\n",
    "\n",
    "def concatinate_axis(arr1,arr2):  #dunction to concatinate two arrays along the Horizontal Axis i.e axis=1\n",
    "    return(np.hstack((arr1,arr2)))\n",
    "\n",
    "arr1=np.random.randint(low=4,high=10,size=(3,2))\n",
    "arr2=np.random.randint(low=4,high=10,size=(3,2))\n",
    "\n",
    "print(f\"Array 1 : \\n {arr1} ,\\n Array 2 : \\n {arr2} , \\n  Concatinate Along Horizontal Axis : \\n {concatinate_axis(arr1,arr2)}\")"
   ]
  },
  {
   "cell_type": "code",
   "execution_count": 13,
   "id": "247f5170-778d-47ca-a8b9-ad72d84bbb10",
   "metadata": {},
   "outputs": [
    {
     "name": "stdout",
     "output_type": "stream",
     "text": [
      "Array 1 : \n",
      "[[4 8]\n",
      " [7 8]\n",
      " [5 6]]\n",
      "\n",
      "Array 2 : [[9 8 5]\n",
      " [7 6 5]]\n",
      "\n",
      "Horizontally Concatined Array : \n",
      " [[4 8 9 7]\n",
      " [7 8 8 6]\n",
      " [5 6 5 5]]\n"
     ]
    }
   ],
   "source": [
    "# Q19\n",
    "arr1=np.random.randint(low=4,high=10,size=(3,2))\n",
    "arr2=np.random.randint(low=4,high=10,size=(2,3))\n",
    "print(f\"Array 1 : \\n{arr1}\")\n",
    "print(f\"\\nArray 2 : {arr2}\")\n",
    "\n",
    "print(f\"\\nHorizontally Concatined Array : \\n {np.hstack((arr1,arr2.T))}\")"
   ]
  },
  {
   "cell_type": "code",
   "execution_count": 14,
   "id": "cf509a3c-4c1e-4357-a1e2-5b6cb0e23314",
   "metadata": {},
   "outputs": [
    {
     "name": "stdout",
     "output_type": "stream",
     "text": [
      "Multiple List's : ([45, 20, 36, 89], [45, 78, 20, 36], [13, 79, 39])\n",
      "\n",
      "Vertical Stacked Array of list : \n",
      " [[45 20 36 89]\n",
      " [45 78 20 36]\n",
      " [13 79 39 42]]\n"
     ]
    }
   ],
   "source": [
    "#Q20\n",
    "def vertical_Stack_Array(*args):\n",
    "    return(np.vstack(args))  #stacking of all the lists\n",
    "\n",
    "print(f\"Multiple List's : {([45,20,36,89],[45,78,20,36],[13,79,39])}\")\n",
    "print(f\"\\nVertical Stacked Array of list : \\n {vertical_Stack_Array([45,20,36,89],[45,78,20,36],[13,79,39,42])}\")  # sendimng multiple lists as arguments"
   ]
  },
  {
   "cell_type": "code",
   "execution_count": 15,
   "id": "de287571-f7d0-4460-8673-b213045065fa",
   "metadata": {},
   "outputs": [
    {
     "name": "stdout",
     "output_type": "stream",
     "text": [
      "Ranged Integer Array : [ 5  9 13 17]\n"
     ]
    }
   ],
   "source": [
    "# Q21\n",
    "def Arrange_NumpyArray(high,low=0,step=1):\n",
    "    return(np.arange(low,high+1,step,dtype=np.int16))\n",
    "\n",
    "print(f\"Ranged Integer Array : {Arrange_NumpyArray(high=20,low=5,step=4)}\")"
   ]
  },
  {
   "cell_type": "code",
   "execution_count": 16,
   "id": "cef4ccfe-e884-40cb-94d7-ea34f3fc659b",
   "metadata": {},
   "outputs": [
    {
     "name": "stdout",
     "output_type": "stream",
     "text": [
      "Ranged Integer Array : [0.         0.11111111 0.22222222 0.33333333 0.44444444 0.55555556\n",
      " 0.66666667 0.77777778 0.88888889 1.        ]\n"
     ]
    }
   ],
   "source": [
    "# Q22\n",
    "def EqualspacedValues_NumpyArray():\n",
    "    return(np.linspace(start=0,stop=1,num=10))\n",
    "\n",
    "print(f\"Ranged Integer Array : {EqualspacedValues_NumpyArray()}\")\n"
   ]
  },
  {
   "cell_type": "code",
   "execution_count": 17,
   "id": "bd02d952-272c-411b-8264-a13cb195feca",
   "metadata": {},
   "outputs": [
    {
     "name": "stdout",
     "output_type": "stream",
     "text": [
      "Ranged Integer Array : [1.00000000e+001 5.62341325e+250             inf             inf\n",
      "             inf]\n"
     ]
    },
    {
     "name": "stderr",
     "output_type": "stream",
     "text": [
      "C:\\Users\\abirm\\AppData\\Local\\Programs\\Python\\Python312\\Lib\\site-packages\\numpy\\core\\function_base.py:298: RuntimeWarning: overflow encountered in power\n",
      "  return _nx.power(base, y)\n"
     ]
    }
   ],
   "source": [
    "# Q23\n",
    "\n",
    "def LogspacedValues_NumpyArray():\n",
    "    return(np.logspace(start=1,stop=1000,num=5))\n",
    "\n",
    "print(f\"Ranged Integer Array : {LogspacedValues_NumpyArray()}\")"
   ]
  },
  {
   "cell_type": "code",
   "execution_count": 18,
   "id": "741b94c9-a6fc-4b82-8e7b-fec59ca005c7",
   "metadata": {},
   "outputs": [
    {
     "data": {
      "text/html": [
       "<div>\n",
       "<style scoped>\n",
       "    .dataframe tbody tr th:only-of-type {\n",
       "        vertical-align: middle;\n",
       "    }\n",
       "\n",
       "    .dataframe tbody tr th {\n",
       "        vertical-align: top;\n",
       "    }\n",
       "\n",
       "    .dataframe thead th {\n",
       "        text-align: right;\n",
       "    }\n",
       "</style>\n",
       "<table border=\"1\" class=\"dataframe\">\n",
       "  <thead>\n",
       "    <tr style=\"text-align: right;\">\n",
       "      <th></th>\n",
       "      <th>A</th>\n",
       "      <th>B</th>\n",
       "      <th>C</th>\n",
       "    </tr>\n",
       "  </thead>\n",
       "  <tbody>\n",
       "    <tr>\n",
       "      <th>0</th>\n",
       "      <td>50</td>\n",
       "      <td>64</td>\n",
       "      <td>6</td>\n",
       "    </tr>\n",
       "    <tr>\n",
       "      <th>1</th>\n",
       "      <td>6</td>\n",
       "      <td>52</td>\n",
       "      <td>55</td>\n",
       "    </tr>\n",
       "    <tr>\n",
       "      <th>2</th>\n",
       "      <td>69</td>\n",
       "      <td>59</td>\n",
       "      <td>44</td>\n",
       "    </tr>\n",
       "    <tr>\n",
       "      <th>3</th>\n",
       "      <td>61</td>\n",
       "      <td>85</td>\n",
       "      <td>20</td>\n",
       "    </tr>\n",
       "    <tr>\n",
       "      <th>4</th>\n",
       "      <td>12</td>\n",
       "      <td>8</td>\n",
       "      <td>53</td>\n",
       "    </tr>\n",
       "  </tbody>\n",
       "</table>\n",
       "</div>"
      ],
      "text/plain": [
       "    A   B   C\n",
       "0  50  64   6\n",
       "1   6  52  55\n",
       "2  69  59  44\n",
       "3  61  85  20\n",
       "4  12   8  53"
      ]
     },
     "execution_count": 18,
     "metadata": {},
     "output_type": "execute_result"
    }
   ],
   "source": [
    "# Q24\n",
    "\n",
    "arr=np.random.randint(low=1,high=101,size=(5,3))\n",
    "df=pd.DataFrame(arr,columns=[\"A\",\"B\",\"C\"])  #Pandas DataFrame created using Random integers between 1 to 100 using \n",
    "df  "
   ]
  },
  {
   "cell_type": "code",
   "execution_count": 19,
   "id": "0544d4e4-51de-4d89-8d99-c82b58039821",
   "metadata": {},
   "outputs": [
    {
     "name": "stdout",
     "output_type": "stream",
     "text": [
      "Original DataFrame : \n",
      "     A   B   C\n",
      "0  45  20  36\n",
      "1 -96  42  -9\n",
      "2 -12  -7  20\n",
      "\n",
      " New DataFrameDataFrame : \n",
      "     A   B   C\n",
      "0  45  20  36\n",
      "1   0  42  -9\n",
      "2   0  -7  20\n"
     ]
    }
   ],
   "source": [
    "# Q25\n",
    "df=pd.DataFrame([[45,20,36],[-96,42,-9],[-12,-7,20]],columns=[\"A\",\"B\",\"C\"])\n",
    "print(f\"Original DataFrame : \\n {df}\")\n",
    "df[\"A\"]=np.where(df[\"A\"]<0,0,df[\"A\"])  # (condition, True-Action , False Action)\n",
    "# Alternative approach (wthout numpy)--> df[\"A\"]=df[\"A\"].apply(lambda x : 0 if(x<0) else x)\n",
    "print(f\"\\n New DataFrameDataFrame : \\n {df}\")"
   ]
  },
  {
   "cell_type": "code",
   "execution_count": 26,
   "id": "0b7a8203-ba12-4ceb-9c6a-8ca580a17be7",
   "metadata": {},
   "outputs": [
    {
     "name": "stdout",
     "output_type": "stream",
     "text": [
      "Accesing the 5th Element ---> 50\n"
     ]
    }
   ],
   "source": [
    "#Q26\n",
    "arr=np.array([10,20,30,40,50])\n",
    "print(f\"Accesing the 5th Element ---> {arr[4]}\")"
   ]
  },
  {
   "cell_type": "code",
   "execution_count": 27,
   "id": "bd6a4a5f-26c8-4f97-9c4b-b9ca66b34b17",
   "metadata": {},
   "outputs": [
    {
     "name": "stdout",
     "output_type": "stream",
     "text": [
      "Fetching elemnt at (1,2) ---> 6\n"
     ]
    }
   ],
   "source": [
    "#Q27\n",
    "arr_2d=np.array([[1,2,3],[4,5,6],[7,8,9]])\n",
    "print(f\"Fetching elemnt at (1,2) ---> {arr_2d[1,2]}\")"
   ]
  },
  {
   "cell_type": "code",
   "execution_count": 22,
   "id": "19fba756-92b7-4eaa-8625-e6491f1bd7db",
   "metadata": {},
   "outputs": [
    {
     "name": "stdout",
     "output_type": "stream",
     "text": [
      "Elements Grater than 5 --> [ 8 10  7]\n"
     ]
    }
   ],
   "source": [
    "#Q28\n",
    "arr=np.array([3,8,2,10,5,7])\n",
    "print(f\"Elements Grater than 5 --> {arr[arr>5]}\")"
   ]
  },
  {
   "cell_type": "code",
   "execution_count": 23,
   "id": "5a8067c1-8283-4724-b43a-21f3e214e7c5",
   "metadata": {},
   "outputs": [
    {
     "name": "stdout",
     "output_type": "stream",
     "text": [
      "Target Slicing --> [3 4 5 6]\n"
     ]
    }
   ],
   "source": [
    "# 29\n",
    "arr=np.array([1,2,3,4,5,6,7,8,9])\n",
    "print(f\"Target Slicing --> {arr[2:6]}\")  #extracting elements at index position from 2 to 5 inclusive"
   ]
  },
  {
   "cell_type": "code",
   "execution_count": 25,
   "id": "60a6bfcb-037c-4e39-b4e6-db48d1215cfd",
   "metadata": {},
   "outputs": [
    {
     "name": "stdout",
     "output_type": "stream",
     "text": [
      "Traget Extraction of Sub Array --> \n",
      "[[2 3]\n",
      " [5 6]]\n"
     ]
    }
   ],
   "source": [
    "# Q30\n",
    "arr_2d=np.array([[1,2,3],[4,5,6],[7,8,9]])\n",
    "print(f\"Traget Extraction of Sub Array --> \\n{arr_2d[0:2,1:3]}\")"
   ]
  },
  {
   "cell_type": "markdown",
   "id": "39459d5b-54a4-4b94-b7d9-035b78dadc98",
   "metadata": {},
   "source": [
    "# **Loockout Q28,29,25,33,40**\n",
    "\n",
    "* Good Questions -> 31,33,49,66,49,77,79\n",
    "* How to insert Elements at specific position on Numpy Array as well delete wise versa\n",
    "* How to round off the Numpy values both in result as well as in input"
   ]
  },
  {
   "cell_type": "code",
   "execution_count": 30,
   "id": "cad21725-795c-400d-83a3-b4f38b31a1a4",
   "metadata": {},
   "outputs": [
    {
     "name": "stdout",
     "output_type": "stream",
     "text": [
      "Extracted Elements ---> [5. 2. 8.]\n"
     ]
    }
   ],
   "source": [
    "#Q31\n",
    "\n",
    "def extract_index(arr,index):\n",
    "    output_arr=np.empty(len(index),dtype=np.float16)  #Creating an empty array to store the extracted elements\n",
    "    for i,ind in enumerate(index):\n",
    "        if(0<=ind<arr.size):  #condition to check for out-of-bound indexes\n",
    "            row,col=np.unravel_index(ind,arr.shape)\n",
    "            output_arr[i]=arr[row,col]\n",
    "        else:\n",
    "            output_arr[i]=np.nan # Fill with Null if out of bound index takes place\n",
    "    return output_arr\n",
    "\n",
    "array = np.array([[1, 2, 3], [4, 5, 6], [7, 8, 9]])\n",
    "index = np.array([4, 1, 7])\n",
    "print(f\"Extracted Elements ---> {extract_index(array,index)}\")"
   ]
  },
  {
   "cell_type": "code",
   "execution_count": 36,
   "id": "57374acd-e820-4149-a370-1dd48adf7d95",
   "metadata": {},
   "outputs": [
    {
     "name": "stdout",
     "output_type": "stream",
     "text": [
      "Filtered Array --> [45 96 20 14 63 78 41 36 91 82 20]\n"
     ]
    }
   ],
   "source": [
    "#Q32\n",
    "arr=np.array((45,96,20,14,63,78,41,36,91,82,20,1,3,4,7))\n",
    "threshold=12.5\n",
    "print(f\"Filtered Array --> {arr[arr>threshold]}\")"
   ]
  },
  {
   "cell_type": "code",
   "execution_count": 18,
   "id": "243395ff-f563-41f6-8c66-ae774e94fc6a",
   "metadata": {},
   "outputs": [
    {
     "name": "stdout",
     "output_type": "stream",
     "text": [
      "Extracted Elements --> [11. 14.  5. 14.  6.]\n"
     ]
    }
   ],
   "source": [
    "#Q33\n",
    "def ThreeD_Extraction(arr,a1,a2,a3):\n",
    "    output=np.empty(len(a1))\n",
    "    counter=0\n",
    "    for i,j,k in (zip(a1,a2,a3)):\n",
    "        try:\n",
    "            output[counter]=arr[i,j,k]\n",
    "        except ValueError:\n",
    "            output[counter]=np.nan\n",
    "        counter+=1\n",
    "    return output\n",
    "\n",
    "arr=np.random.randint(low=5,high=16,size=(2,3,3))\n",
    "a1=np.random.randint(low=0,high=2,size=(5,))\n",
    "a2=np.random.randint(low=0,high=3,size=(5,))\n",
    "a3=np.random.randint(low=0,high=3,size=(5,))\n",
    "print(f\"Extracted Elements --> {ThreeD_Extraction(arr,a1,a2,a3)}\")"
   ]
  },
  {
   "cell_type": "code",
   "execution_count": 39,
   "id": "5365ed2f-acb9-4ac8-884a-f7e88feb154a",
   "metadata": {},
   "outputs": [
    {
     "name": "stdout",
     "output_type": "stream",
     "text": [
      "Array ---> [62 57 37 25 36 32 20 48 15 65 50] \n",
      " Filtred Array ---> [62 57 37 36 32 48 50]\n"
     ]
    }
   ],
   "source": [
    "#Q34\n",
    "\n",
    "def Filter_Condition(arr):\n",
    "    cond1,cond2=arr>(5**2),arr<(4**3)\n",
    "    return(arr[cond1 & cond2])\n",
    "\n",
    "arr=np.random.randint(low=14,high=70,size=(11,))\n",
    "print(f\"Array ---> {arr} \\n Filtred Array ---> {Filter_Condition(arr)}\")"
   ]
  },
  {
   "cell_type": "code",
   "execution_count": 46,
   "id": "68b01aec-c250-4c8c-8666-0c7a1459c524",
   "metadata": {},
   "outputs": [
    {
     "name": "stdout",
     "output_type": "stream",
     "text": [
      "Original Array : \n",
      " [[30 68 66]\n",
      " [26 54 58]\n",
      " [18 23 31]\n",
      " [49 65 49]\n",
      " [40 42 25]\n",
      " [68 62 22]\n",
      " [35 68 56]\n",
      " [56 34 48]\n",
      " [25 19 29]\n",
      " [33 57 61]\n",
      " [52 61 44]],\n",
      " Extracted Elements --> [68. 33. 56. 65. 49. 33. 22. 68. 44. 40. 61.]\n"
     ]
    }
   ],
   "source": [
    "#Q35\n",
    "\n",
    "def Extraction_2D(arr,a1,a2):\n",
    "    counter=0\n",
    "    output=np.empty(min(len(a1),len(a2))) # Creating an array to store the extracted arrays\n",
    "    for i,j in zip(a1,a2):\n",
    "        try:\n",
    "            output[counter]=arr[i,j]\n",
    "        except IndexError:\n",
    "            output[counter]=np.nan  #Fill with NULL values if IndexError occurs\n",
    "        counter+=1\n",
    "    return output\n",
    "\n",
    "arr=np.random.randint(low=14,high=70,size=(11,3))\n",
    "a1=np.random.randint(low=0,high=11,size=(ra.randint(10,20),))\n",
    "a2=np.random.randint(low=0,high=3,size=(ra.randint(10,20),))   \n",
    "print(f\"Original Array : \\n {arr},\\n Extracted Elements --> {Extraction_2D(arr,a1,a2)}\")"
   ]
  },
  {
   "cell_type": "code",
   "execution_count": 48,
   "id": "28c4a9e7-47b5-4a9d-92b9-7048e86bd1e6",
   "metadata": {},
   "outputs": [
    {
     "name": "stdout",
     "output_type": "stream",
     "text": [
      "Original Array : \n",
      " [[32 67 14]\n",
      " [67 27 64]\n",
      " [23 16 54]] ,\n",
      " Scalar addition of 5 : \n",
      " [[37 72 19]\n",
      " [72 32 69]\n",
      " [28 21 59]]\n"
     ]
    }
   ],
   "source": [
    "#Q36\n",
    "arr=np.random.randint(low=14,high=70,size=(3,3))\n",
    "print(f\"Original Array : \\n {arr} ,\\n Scalar addition of 5 : \\n {arr+5}\")"
   ]
  },
  {
   "cell_type": "code",
   "execution_count": 50,
   "id": "aecda935-da1c-4f98-907b-254b54b8dd57",
   "metadata": {},
   "outputs": [
    {
     "name": "stdout",
     "output_type": "stream",
     "text": [
      "[1560 1500 2040 1920]\n",
      "[ 416  304  304 1008]\n",
      "[ 468 1188  288  594]\n"
     ]
    }
   ],
   "source": [
    "#Q37\n",
    "arr1=np.random.randint(low=14,high=70,size=(1,3))\n",
    "arr2=np.random.randint(low=14,high=70,size=(3,4))\n",
    "\n",
    "for i in range(3):\n",
    "    print(arr2[i]*arr1[0,i])"
   ]
  },
  {
   "cell_type": "code",
   "execution_count": 53,
   "id": "4287d361-ee9d-4676-9d34-e66a1d2f79c4",
   "metadata": {},
   "outputs": [
    {
     "name": "stdout",
     "output_type": "stream",
     "text": [
      "[55 92 88]\n",
      "[47 36 68]\n",
      "[ 98 122 124]\n",
      "[128 125  98]\n"
     ]
    }
   ],
   "source": [
    "# Q38\n",
    "arr1=np.random.randint(low=14,high=70,size=(1,4))\n",
    "arr2=np.random.randint(low=14,high=70,size=(4,3))\n",
    "\n",
    "for i in range(4):\n",
    "    print(arr2[i]+arr1[0,i])\n"
   ]
  },
  {
   "cell_type": "code",
   "execution_count": 54,
   "id": "d60e4806-88c9-4447-b6f2-970d8e87ada7",
   "metadata": {},
   "outputs": [
    {
     "name": "stdout",
     "output_type": "stream",
     "text": [
      "Addition of Two Array Using Broadcasting [[106]\n",
      " [ 44]\n",
      " [ 86]]\n"
     ]
    }
   ],
   "source": [
    "# Q39\n",
    "arr1=np.random.randint(low=14,high=70,size=(3,1))\n",
    "arr2=np.random.randint(low=14,high=70,size=(1,3))\n",
    "\n",
    "print(f\"Addition of Two Array Using Broadcasting {arr1+arr2.T}\")"
   ]
  },
  {
   "cell_type": "code",
   "execution_count": 4,
   "id": "c2a1031f-24a2-4e54-8361-6c2a6ad01c93",
   "metadata": {},
   "outputs": [
    {
     "name": "stdout",
     "output_type": "stream",
     "text": [
      "BROADCASTING NOT POSSIBLE DUE TO IN-COMPATABLE SHAPE\n"
     ]
    }
   ],
   "source": [
    "#40\n",
    "arr1=np.random.randint(low=14,high=70,size=(2,3))\n",
    "arr2=np.random.randint(low=14,high=70,size=(2,2))\n",
    "\n",
    "#Trying to broadcasting of Multiplication with Incompatable shapes\n",
    "try:\n",
    "    print(arr1*arr2)\n",
    "except ValueError:\n",
    "    print(\"BROADCASTING NOT POSSIBLE DUE TO IN-COMPATABLE SHAPE\")"
   ]
  },
  {
   "cell_type": "code",
   "execution_count": 6,
   "id": "735c2a3b-e44f-4fe4-b588-f057fb8f73fc",
   "metadata": {},
   "outputs": [
    {
     "name": "stdout",
     "output_type": "stream",
     "text": [
      "Col1 mean --> 2.5\n",
      "Col2 mean --> 3.5\n",
      "Col3 mean --> 4.5\n"
     ]
    }
   ],
   "source": [
    "#41\n",
    "arr=np.array([[1,2,3],[4,5,6]])\n",
    "for i in range(arr.shape[1]):\n",
    "    print(f\"Col{i+1} mean --> {arr[:,i].mean()}\")"
   ]
  },
  {
   "cell_type": "code",
   "execution_count": 7,
   "id": "c1ae34d6-016c-41ae-a48c-8725e4d23a1b",
   "metadata": {},
   "outputs": [
    {
     "name": "stdout",
     "output_type": "stream",
     "text": [
      "Max elemnt of Row1 ---> 3\n",
      "Max elemnt of Row2 ---> 6\n"
     ]
    }
   ],
   "source": [
    "#Q42\n",
    "arr=np.array([[1,2,3],[4,5,6]])\n",
    "for i in range(arr.shape[0]):\n",
    "    print(f\"Max elemnt of Row{i+1} ---> {np.max(arr[i])}\")"
   ]
  },
  {
   "cell_type": "code",
   "execution_count": 52,
   "id": "622b4cfb-1556-4805-9eba-b3a48bb8f656",
   "metadata": {},
   "outputs": [
    {
     "name": "stdout",
     "output_type": "stream",
     "text": [
      "Col1 max element Index Position --> [1]\n",
      "Col2 max element Index Position --> [1]\n",
      "Col3 max element Index Position --> [1]\n"
     ]
    }
   ],
   "source": [
    "#Q43\n",
    "arr=np.array([[1,2,3],[444,55,6]])\n",
    "for i in range(arr.shape[1]):\n",
    "    max=np.max(arr[:,i])\n",
    "    print(f\"Col{i+1} max element Index Position --> {np.where(arr==max)[0]}\")"
   ]
  },
  {
   "cell_type": "code",
   "execution_count": 17,
   "id": "3172c42b-8d01-4383-a28a-95deabae1848",
   "metadata": {},
   "outputs": [
    {
     "name": "stdout",
     "output_type": "stream",
     "text": [
      "Sum of all the Row1 elements ---> 6\n",
      "Sum of all the Row2 elements ---> 15\n"
     ]
    }
   ],
   "source": [
    "#Q44\n",
    "def custom_sum(row):\n",
    "    return(sum(row))\n",
    "\n",
    "arr=np.array([[1,2,3],[4,5,6]])\n",
    "for i in range(arr.shape[0]):\n",
    "    print(f\"Sum of all the Row{i+1} elements ---> {custom_sum(arr[i])}\")\n",
    "    "
   ]
  },
  {
   "cell_type": "code",
   "execution_count": 16,
   "id": "81881c19-fb35-49e1-8fb7-a2a99606193d",
   "metadata": {},
   "outputs": [
    {
     "name": "stdout",
     "output_type": "stream",
     "text": [
      "Col1 contains only Even Numbers\n",
      "Col2 contains a Odd Number\n",
      "Col3 contains a Odd Number\n"
     ]
    }
   ],
   "source": [
    "#Q45\n",
    "\n",
    "arr=np.array([[2,4,6],[36,5,7]])\n",
    "for i in range(arr.shape[1]):\n",
    "    if(False in (arr[:,i]%2==0)):\n",
    "        print(f\"Col{i+1} contains a Odd Number\")\n",
    "    else:\n",
    "        print(f\"Col{i+1} contains only Even Numbers\")"
   ]
  },
  {
   "cell_type": "code",
   "execution_count": 30,
   "id": "3cbe6226-3b05-42c7-b6ee-5e4e145a8a19",
   "metadata": {},
   "outputs": [
    {
     "name": "stdout",
     "output_type": "stream",
     "text": [
      "Original Array : \n",
      "[1 2 3 4 5 6]\n",
      "Reshaped Array : \n",
      "[[1 2 3]\n",
      " [4 5 6]]\n"
     ]
    }
   ],
   "source": [
    "#Q46\n",
    "def Reshape(arr):\n",
    "    m,n=ra.choice(((1,6),(6,1),(2,3),(3,2)))\n",
    "    return arr.reshape(m,n)\n",
    "\n",
    "original_array=np.array([1,2,3,4,5,6])\n",
    "print(f\"Original Array : \\n{original_array}\\nReshaped Array : \\n{Reshape(original_array)}\")"
   ]
  },
  {
   "cell_type": "code",
   "execution_count": 31,
   "id": "1e830a2f-28be-4077-9823-21ec63c46781",
   "metadata": {},
   "outputs": [
    {
     "name": "stdout",
     "output_type": "stream",
     "text": [
      "Original Array : \n",
      "[[1 2 3]\n",
      " [4 5 6]]\n",
      "Reshaped Array : \n",
      "[1 2 3 4 5 6]\n"
     ]
    }
   ],
   "source": [
    "#Q47\n",
    "def Flat_Array(mat):\n",
    "    return(mat.flatten())\n",
    "\n",
    "input_array=np.array([[1,2,3],[4,5,6]])\n",
    "print(f\"Original Array : \\n{input_array}\\nReshaped Array : \\n{Flat_Array(input_array)}\")"
   ]
  },
  {
   "cell_type": "code",
   "execution_count": 33,
   "id": "b04ded26-330e-48af-b693-3723f19422b2",
   "metadata": {},
   "outputs": [
    {
     "name": "stdout",
     "output_type": "stream",
     "text": [
      "Original Array1 : \n",
      "[[1 2]\n",
      " [3 4]]\n",
      "Original Array2 : \n",
      "[[5 6]\n",
      " [7 8]] \n",
      "Concatinated Array : \n",
      "[[1 2]\n",
      " [3 4]\n",
      " [5 6]\n",
      " [7 8]]\n"
     ]
    }
   ],
   "source": [
    "#Q48\n",
    "def Concatination(a1,a2):\n",
    "    return np.concatenate((a1,a2),axis=ra.choice((0,1)))\n",
    "\n",
    "array1=np.array([[1,2],[3,4]])\n",
    "array2=np.array([[5,6],[7,8]])\n",
    "print(f\"Original Array1 : \\n{array1}\\nOriginal Array2 : \\n{array2} \\nConcatinated Array : \\n{Concatination(array1,array2)}\")"
   ]
  },
  {
   "cell_type": "code",
   "execution_count": 34,
   "id": "1d6f84c1-8caa-4b46-8c84-4ca6884db9d4",
   "metadata": {},
   "outputs": [
    {
     "name": "stdout",
     "output_type": "stream",
     "text": [
      "Original Array : [[1 2 3]\n",
      " [4 5 6]\n",
      " [7 8 9]]\n",
      "Splitted Array's : \n",
      " [array([[1],\n",
      "       [4],\n",
      "       [7]]), array([[2, 3],\n",
      "       [5, 6],\n",
      "       [8, 9]])]\n"
     ]
    }
   ],
   "source": [
    "#Q49\n",
    "def Split_Array(arr):\n",
    "    return(np.split(arr,[1],axis=ra.choice((0,1))))\n",
    "\n",
    "original_array=np.array([[1,2,3],[4,5,6],[7,8,9]])\n",
    "print(f\"Original Array : {original_array}\\nSplitted Array's : \\n {Split_Array(original_array)}\")"
   ]
  },
  {
   "cell_type": "code",
   "execution_count": 38,
   "id": "526d3566-1894-4c4c-823b-d0b2a801b60e",
   "metadata": {},
   "outputs": [
    {
     "name": "stdout",
     "output_type": "stream",
     "text": [
      "Original Array ---> [1 2 3 4 5]\n",
      "New Array ---> [ 1 10  3  4  5]\n"
     ]
    }
   ],
   "source": [
    "#Q50\n",
    "def Operations(arr,ind_i,val_i,ind_del):\n",
    "    lst=list(arr)\n",
    "    lst.insert(ind_i[0],val_i[0])\n",
    "    lst.insert(ind_i[1],val_i[1])\n",
    "    lst.pop(ind_del[0])\n",
    "    lst.pop(ind_del[1])\n",
    "    return(np.asarray(lst))\n",
    "\n",
    "\n",
    "original_array=np.array([1,2,3,4,5])\n",
    "indices_to_insert=[2,4]\n",
    "values_to_insert=[10,11]\n",
    "indices_to_delete=[1,3]\n",
    "\n",
    "print(f\"Original Array ---> {original_array}\\nNew Array ---> {Operations(original_array,indices_to_insert,values_to_insert,indices_to_delete)}\")"
   ]
  },
  {
   "cell_type": "code",
   "execution_count": 40,
   "id": "da0ab1c0-e888-4579-91c4-a8207e6bf39b",
   "metadata": {},
   "outputs": [
    {
     "name": "stdout",
     "output_type": "stream",
     "text": [
      "Array 1 --> [25 18 22 20 26 25 18 12 20 13]\n",
      "Array 2 --> [ 1  2  3  4  5  6  7  8  9 10]\n",
      "Addition of Both Array --> [26 20 25 24 31 31 25 20 29 23]\n"
     ]
    }
   ],
   "source": [
    "#Q51\n",
    "arr1=np.random.randint(low=12,high=30,size=(10,))\n",
    "arr2=np.array(range(1,11))\n",
    "print(f\"Array 1 --> {arr1}\\nArray 2 --> {arr2}\\nAddition of Both Array --> {arr1+arr2}\")"
   ]
  },
  {
   "cell_type": "code",
   "execution_count": 42,
   "id": "973dd9d8-5af8-490d-b82f-f54b04f9c6d6",
   "metadata": {},
   "outputs": [
    {
     "name": "stdout",
     "output_type": "stream",
     "text": [
      "Array 1 --> [10  9  8  7  6  5  4  3  2  1]\n",
      "Array 2 --> [ 1  2  3  4  5  6  7  8  9 10]\n",
      "Subtraction of Both Array --> [ 9  7  5  3  1 -1 -3 -5 -7 -9]\n"
     ]
    }
   ],
   "source": [
    "#Q52\n",
    "arr1=np.array(range(10,0,-1))\n",
    "arr2=np.array(range(1,11))\n",
    "print(f\"Array 1 --> {arr1}\\nArray 2 --> {arr2}\\nSubtraction of Both Array --> {arr1-arr2}\")"
   ]
  },
  {
   "cell_type": "code",
   "execution_count": 43,
   "id": "fe6999b2-7527-40be-be39-4000c44d8457",
   "metadata": {},
   "outputs": [
    {
     "name": "stdout",
     "output_type": "stream",
     "text": [
      "Array 1 --> [13 18 18 20 23]\n",
      "Array 2 --> [1 2 3 4 5]\n",
      "Multiplication of Both Array --> [ 13  36  54  80 115]\n"
     ]
    }
   ],
   "source": [
    "#Q53\n",
    "arr1=np.random.randint(low=12,high=30,size=(5,))\n",
    "arr2=np.array(range(1,6))\n",
    "print(f\"Array 1 --> {arr1}\\nArray 2 --> {arr2}\\nMultiplication of Both Array --> {arr1*arr2}\")"
   ]
  },
  {
   "cell_type": "code",
   "execution_count": 45,
   "id": "cc7513c2-235e-472a-995b-4951fd64d2f7",
   "metadata": {},
   "outputs": [
    {
     "name": "stdout",
     "output_type": "stream",
     "text": [
      "Array 1 --> [ 2  4  6  8 10]\n",
      "Array 2 --> [1 2 3 4 5]\n",
      "Division of Both Array --> [2. 2. 2. 2. 2.]\n"
     ]
    }
   ],
   "source": [
    "#Q54\n",
    "arr1=np.array(range(2,11,2))\n",
    "arr2=np.array(range(1,6))\n",
    "print(f\"Array 1 --> {arr1}\\nArray 2 --> {arr2}\\nDivision of Both Array --> {arr1/arr2}\")"
   ]
  },
  {
   "cell_type": "code",
   "execution_count": 47,
   "id": "ad9403a1-48cd-4e2e-b128-a63cefef57fe",
   "metadata": {},
   "outputs": [
    {
     "name": "stdout",
     "output_type": "stream",
     "text": [
      "Array 1 --> [1 2 3 4 5]\n",
      "Array 2 --> [5 4 3 2 1]\n",
      "Exponential of Both Array --> [ 1 16 27 16  5]\n"
     ]
    }
   ],
   "source": [
    "#Q55\n",
    "arr1=np.array(range(1,6))\n",
    "arr2=np.array(range(5,0,-1))\n",
    "print(f\"Array 1 --> {arr1}\\nArray 2 --> {arr2}\\nExponential of Both Array --> {arr1**arr2}\")"
   ]
  },
  {
   "cell_type": "code",
   "execution_count": 50,
   "id": "f77abaa9-3f4c-4077-ba44-eb838de07044",
   "metadata": {},
   "outputs": [
    {
     "name": "stdout",
     "output_type": "stream",
     "text": [
      "The Total Frequency of the substring he is ---> 3\n"
     ]
    }
   ],
   "source": [
    "#Q56\n",
    "counter=0\n",
    "def Substring_Freq(st):\n",
    "    target=\"he\" #Target substring to look for in the Numpy strings \n",
    "    global counter\n",
    "    while(target in st):\n",
    "        counter+=1  #counting the number of ocurrance of the substring\n",
    "        st=st[((st.find(target))+len(target)):]\n",
    "\n",
    "arr=np.array([\"hello\",\"world\",\"hello\",\"numpy\",\"hello\"])\n",
    "for i in arr:\n",
    "    Substring_Freq(i)\n",
    "\n",
    "print(f\"The Total Frequency of the substring he is ---> {counter}\")"
   ]
  },
  {
   "cell_type": "code",
   "execution_count": 11,
   "id": "94524920-6286-4b17-8671-8c36566bb464",
   "metadata": {},
   "outputs": [
    {
     "name": "stdout",
     "output_type": "stream",
     "text": [
      "Extracted UpperCase Characters from the Array of Strings ---> ['Hello' 'World' 'OpenAI' 'GPT'] is ---> ('H', 'W', 'O', 'A', 'I', 'G', 'P', 'T')\n"
     ]
    }
   ],
   "source": [
    "#Q57\n",
    "lst=\"\"\n",
    "def Extract_UpperCase(st):\n",
    "    global lst\n",
    "    lst=lst+\"\".join((filter(str.isupper,st)))\n",
    "\n",
    "arr=np.array(['Hello', 'World', 'OpenAI', 'GPT'])\n",
    "for i in arr:\n",
    "    Extract_UpperCase(i)\n",
    "\n",
    "print(f\"Extracted UpperCase Characters from the Array of Strings ---> {arr} is ---> {tuple(lst)}\")"
   ]
  },
  {
   "cell_type": "code",
   "execution_count": 11,
   "id": "dddb1197-d253-44bf-9372-c41a1042fc63",
   "metadata": {},
   "outputs": [
    {
     "name": "stdout",
     "output_type": "stream",
     "text": [
      "Original String --> apple || New String --> aGPT\n",
      "Original String --> banana || New String --> banana\n",
      "Original String --> grape || New String --> grape\n",
      "Original String --> pineapple || New String --> pineaGPT\n"
     ]
    }
   ],
   "source": [
    "#Q58\n",
    "def Replacement(st,target_str,sub_str):\n",
    "    return (st.replace(sub_str,target_str))\n",
    "\n",
    "arr=np.array([\"apple\",\"banana\",\"grape\",\"pineapple\"]); sub_str=\"pple\" ; target_str=\"GPT\"\n",
    "for i in arr:\n",
    "    print(f\"Original String --> {i} || New String --> {Replacement(i,target_str,sub_str)}\")"
   ]
  },
  {
   "cell_type": "code",
   "execution_count": 21,
   "id": "77ef6106-c15d-4757-ab05-0bad1b05863d",
   "metadata": {},
   "outputs": [
    {
     "name": "stdout",
     "output_type": "stream",
     "text": [
      "Array 1 --> ['Hello' 'World']\n",
      "Array 2 --> ['Open' 'AI']\n",
      " Concatinated Array --> ['Hello' 'World' 'Open' 'AI']\n"
     ]
    }
   ],
   "source": [
    "#Q59\n",
    "\n",
    "def Concatinate_String(a1,a2):\n",
    "    return np.concatenate((a1,a2),axis=0)\n",
    "\n",
    "arr1,arr2=np.array([\"Hello\",\"World\"],dtype=\"<U5\"),np.array([\"Open\",\"AI\"],dtype=\"<U5\")\n",
    "#arr2.dtype\n",
    "print(f\"Array 1 --> {arr1}\\nArray 2 --> {arr2}\\n Concatinated Array --> {Concatinate_String(arr1,arr2)}\")"
   ]
  },
  {
   "cell_type": "code",
   "execution_count": 141,
   "id": "d738cf91-5791-4133-abc9-10e2d5352c5d",
   "metadata": {},
   "outputs": [
    {
     "name": "stdout",
     "output_type": "stream",
     "text": [
      "[5 6 5 9]\n"
     ]
    },
    {
     "ename": "TypeError",
     "evalue": "'numpy.int32' object is not callable",
     "output_type": "error",
     "traceback": [
      "\u001b[1;31m---------------------------------------------------------------------------\u001b[0m",
      "\u001b[1;31mTypeError\u001b[0m                                 Traceback (most recent call last)",
      "Cell \u001b[1;32mIn[141], line 8\u001b[0m\n\u001b[0;32m      5\u001b[0m     \u001b[38;5;28;01mreturn\u001b[39;00m \u001b[38;5;28mlist\u001b[39m(tu)\n\u001b[0;32m      7\u001b[0m arr \u001b[38;5;241m=\u001b[39m np\u001b[38;5;241m.\u001b[39marray([\u001b[38;5;124m'\u001b[39m\u001b[38;5;124mapple\u001b[39m\u001b[38;5;124m'\u001b[39m, \u001b[38;5;124m'\u001b[39m\u001b[38;5;124mbanana\u001b[39m\u001b[38;5;124m'\u001b[39m, \u001b[38;5;124m'\u001b[39m\u001b[38;5;124mgrape\u001b[39m\u001b[38;5;124m'\u001b[39m, \u001b[38;5;124m'\u001b[39m\u001b[38;5;124mpineapple\u001b[39m\u001b[38;5;124m'\u001b[39m])\n\u001b[1;32m----> 8\u001b[0m \u001b[38;5;28mprint\u001b[39m(\u001b[38;5;124mf\u001b[39m\u001b[38;5;124m\"\u001b[39m\u001b[38;5;124mArray --> \u001b[39m\u001b[38;5;132;01m{\u001b[39;00marr\u001b[38;5;132;01m}\u001b[39;00m\u001b[38;5;130;01m\\n\u001b[39;00m\u001b[38;5;124mLongest String Length = \u001b[39m\u001b[38;5;132;01m{\u001b[39;00m\u001b[38;5;28;43mmax\u001b[39;49m\u001b[43m(\u001b[49m\u001b[43mLongest_String_len\u001b[49m\u001b[43m(\u001b[49m\u001b[43marr\u001b[49m\u001b[43m)\u001b[49m\u001b[43m)\u001b[49m\u001b[38;5;132;01m}\u001b[39;00m\u001b[38;5;124m\"\u001b[39m)\n",
      "\u001b[1;31mTypeError\u001b[0m: 'numpy.int32' object is not callable"
     ]
    }
   ],
   "source": [
    "#Q60\n",
    "def Longest_String_len(arr):\n",
    "    tu=tuple(map(len,arr))\n",
    "    print(np.asarray(tu,dtype=int))\n",
    "    return list(tu)\n",
    "\n",
    "arr = np.array(['apple', 'banana', 'grape', 'pineapple'])\n",
    "print(f\"Array --> {arr}\\nLongest String Length = {max(Longest_String_len(arr))}\")"
   ]
  },
  {
   "cell_type": "code",
   "execution_count": 144,
   "id": "1ca5cc44-0da5-43a0-9bf1-e7ee78df58ef",
   "metadata": {},
   "outputs": [
    {
     "name": "stdout",
     "output_type": "stream",
     "text": [
      "Mean : 507.6\n",
      "Median : 523.0\n",
      "Variance: 99823.79999999999\n",
      "Standard Deviation : 315.9490465249104\n"
     ]
    }
   ],
   "source": [
    "#Q61\n",
    "\n",
    "df=pd.DataFrame(np.random.randint(low=1,high=1001,size=(100,)),columns=[\"Integers_Data\"])\n",
    "print(f\"Mean : {np.mean(df[\"Integers_Data\"])}\\nMedian : {np.median(df[\"Integers_Data\"])}\\nVariance: {np.var(df[\"Integers_Data\"])}\\nStandard Deviation : {np.std(df[\"Integers_Data\"])}\")"
   ]
  },
  {
   "cell_type": "code",
   "execution_count": 42,
   "id": "f1dddbba-86b7-48d1-a75c-ef93127281a9",
   "metadata": {},
   "outputs": [
    {
     "data": {
      "text/html": [
       "<div>\n",
       "<style scoped>\n",
       "    .dataframe tbody tr th:only-of-type {\n",
       "        vertical-align: middle;\n",
       "    }\n",
       "\n",
       "    .dataframe tbody tr th {\n",
       "        vertical-align: top;\n",
       "    }\n",
       "\n",
       "    .dataframe thead th {\n",
       "        text-align: right;\n",
       "    }\n",
       "</style>\n",
       "<table border=\"1\" class=\"dataframe\">\n",
       "  <thead>\n",
       "    <tr style=\"text-align: right;\">\n",
       "      <th></th>\n",
       "      <th>Integers_Data</th>\n",
       "    </tr>\n",
       "  </thead>\n",
       "  <tbody>\n",
       "    <tr>\n",
       "      <th>25%</th>\n",
       "      <td>31.0</td>\n",
       "    </tr>\n",
       "    <tr>\n",
       "      <th>75%</th>\n",
       "      <td>73.0</td>\n",
       "    </tr>\n",
       "  </tbody>\n",
       "</table>\n",
       "</div>"
      ],
      "text/plain": [
       "     Integers_Data\n",
       "25%           31.0\n",
       "75%           73.0"
      ]
     },
     "execution_count": 42,
     "metadata": {},
     "output_type": "execute_result"
    }
   ],
   "source": [
    "#Q62\n",
    "df=pd.DataFrame(np.random.randint(low=1,high=101,size=(50,)),columns=[\"Integers_Data\"])\n",
    "(df.describe()).loc[[\"25%\",\"75%\"]]"
   ]
  },
  {
   "cell_type": "code",
   "execution_count": null,
   "id": "0ff8eaee-da4d-4914-850f-1dbde5457dc7",
   "metadata": {},
   "outputs": [],
   "source": [
    "#Q63"
   ]
  },
  {
   "cell_type": "code",
   "execution_count": 48,
   "id": "a3177bc7-f667-4073-bbaa-46addadd72c6",
   "metadata": {},
   "outputs": [
    {
     "name": "stdout",
     "output_type": "stream",
     "text": [
      "Matrix 1 : \n",
      "[[8 1 1 6]\n",
      " [5 1 1 3]\n",
      " [2 6 3 9]]\n",
      "Matrix 2 : \n",
      "[[9 9 7 1]\n",
      " [5 5 2 4]\n",
      " [7 8 5 2]\n",
      " [8 9 5 5]]\n",
      " Dot Product : \n",
      "[[132 139  93  44]\n",
      " [ 81  85  57  26]\n",
      " [141 153  86  77]]\n"
     ]
    }
   ],
   "source": [
    "#Q64\n",
    "mat1,mat2=np.matrix(np.random.randint(low=1,high=11,size=(12,)).reshape(3,4)),np.matrix(np.random.randint(low=1,high=11,size=(16,)).reshape(4,4))\n",
    "print(f\"Matrix 1 : \\n{mat1}\\nMatrix 2 : \\n{mat2}\\n Dot Product : \\n{np.dot(mat1,mat2)}\")"
   ]
  },
  {
   "cell_type": "code",
   "execution_count": 50,
   "id": "fa1cd64f-533e-473f-9023-504feb70dca0",
   "metadata": {},
   "outputs": [],
   "source": [
    "#Q65\n",
    "\n"
   ]
  },
  {
   "cell_type": "code",
   "execution_count": 122,
   "id": "8b4660b4-40f4-4d98-a649-dd88feeca5b2",
   "metadata": {},
   "outputs": [
    {
     "name": "stdout",
     "output_type": "stream",
     "text": [
      "Row and Column coordinate (array([5], dtype=int64),)\n"
     ]
    }
   ],
   "source": [
    "#Q66\n",
    "arr_2d=np.array([[1,2,50],[4,54,5],[2,8,2]])\n",
    "\n",
    "row=np.where(arr_2d.ravel()==5)\n",
    "print(f\"Row and Column coordinate {row}\")"
   ]
  },
  {
   "cell_type": "code",
   "execution_count": 123,
   "id": "f5aae998-42eb-493f-a100-d5f488391b2a",
   "metadata": {},
   "outputs": [
    {
     "name": "stdout",
     "output_type": "stream",
     "text": [
      "Unsorted Array --> [13 19  9  8 17  8 14 19 19 10]\n",
      "Sorted Array -->[ 8  8  9 10 13 14 17 19 19 19]\n"
     ]
    }
   ],
   "source": [
    "#Q67\n",
    "arr=np.random.randint(low=5,high=20,size=(10,))\n",
    "print(f\"Unsorted Array --> {arr}\\nSorted Array -->{np.sort(arr)}\")"
   ]
  },
  {
   "cell_type": "code",
   "execution_count": 60,
   "id": "71dce056-2f1f-43f0-a51d-39b59bcd1789",
   "metadata": {},
   "outputs": [
    {
     "name": "stdout",
     "output_type": "stream",
     "text": [
      "Original Array--> [12 25  6 42  8 30]\n",
      "Filtred Array >20 [25 42 30]\n"
     ]
    }
   ],
   "source": [
    "#Q68\n",
    "\n",
    "arr=np.array([12,25,6,42,8,30])\n",
    "print(f\"Original Array--> {arr}\\nFiltred Array >20 {arr[arr>20]}\")"
   ]
  },
  {
   "cell_type": "code",
   "execution_count": 65,
   "id": "4a4cf1d4-fcb7-4229-8c99-b4a1da640853",
   "metadata": {},
   "outputs": [
    {
     "name": "stdout",
     "output_type": "stream",
     "text": [
      "Original Array --> [ 1  5  8 12 15]\n",
      "Elements Div by 3-->(12, 15)\n"
     ]
    }
   ],
   "source": [
    "#Q69\n",
    "\n",
    "arr=np.array([1,5,8,12,15])\n",
    "print(f\"Original Array --> {arr}\\nElements Div by 3-->{tuple(filter((lambda x: True if(x%3==0) else False),arr))}\")"
   ]
  },
  {
   "cell_type": "code",
   "execution_count": 70,
   "id": "f75e1dd7-f20a-4dad-b7c5-f0237ff9366d",
   "metadata": {},
   "outputs": [
    {
     "name": "stdout",
     "output_type": "stream",
     "text": [
      "Original Array --> [10 20 30 40 50]\n",
      "Elements ≥ 20 and ≤ 40-->(20, 30, 40)\n"
     ]
    }
   ],
   "source": [
    "#Q70\n",
    "arr=np.array([10,20,30,40,50])\n",
    "print(f\"Original Array --> {arr}\\nElements ≥ 20 and ≤ 40-->{tuple(filter((lambda x: True if(x>=20 and x<=40) else False),arr))}\")"
   ]
  },
  {
   "cell_type": "code",
   "execution_count": 69,
   "id": "9bb61116-6221-4ac4-92b8-4fdcb5f234c6",
   "metadata": {},
   "outputs": [
    {
     "name": "stdout",
     "output_type": "stream",
     "text": [
      "Array-->[1 2 3]\n",
      "Byte Order-->int32\n"
     ]
    }
   ],
   "source": [
    "#Q71\n",
    "arr=np.array([1,2,3])\n",
    "print(f\"Array-->{arr}\\nByte Order-->{arr.dtype}\")"
   ]
  },
  {
   "cell_type": "code",
   "execution_count": 71,
   "id": "f8c2d54c-41e2-4d94-bbb2-16b3f38285e0",
   "metadata": {},
   "outputs": [
    {
     "name": "stdout",
     "output_type": "stream",
     "text": [
      "Original byte order:=\n",
      "Swapped byte order:=\n"
     ]
    }
   ],
   "source": [
    "#Q72\n",
    "\n",
    "arr=np.array([1,2,3],dtype=np.int32)\n",
    "print(f\"Original byte order:{arr.dtype.byteorder}\")\n",
    "\n",
    "arr.byteswap()\n",
    "print(f\"Swapped byte order:{arr.dtype.byteorder}\")"
   ]
  },
  {
   "cell_type": "code",
   "execution_count": null,
   "id": "d336e035-203b-45ea-9114-bc4d456330ee",
   "metadata": {},
   "outputs": [],
   "source": []
  },
  {
   "cell_type": "code",
   "execution_count": null,
   "id": "b3ac2400-a5a3-4e08-b601-95651c75bb19",
   "metadata": {},
   "outputs": [],
   "source": [
    "#Q75\n"
   ]
  },
  {
   "cell_type": "code",
   "execution_count": 126,
   "id": "0d770494-b1ab-4d5d-b262-909ba33d2ec5",
   "metadata": {},
   "outputs": [
    {
     "name": "stdout",
     "output_type": "stream",
     "text": [
      "Original Array Before Modification in copy --> [3 3 6 9 2 7 5 4 5 2]\n",
      "Original Array After Modification in copy --> [3 3 6 9 2 7 5 4 5 2]\n"
     ]
    }
   ],
   "source": [
    "#Q76\n",
    "\n",
    "arr1=np.random.randint(low=1,high=11,size=(10,))\n",
    "copy_arr=np.copy(arr1)  #Creating a copy of the original array\n",
    "print(f\"Original Array Before Modification in copy --> {arr1}\")\n",
    "copy_arr[5]=7878  #Modification in copy\n",
    "print(f\"Original Array After Modification in copy --> {arr1}\")  #No effect on Original Array"
   ]
  },
  {
   "cell_type": "code",
   "execution_count": 124,
   "id": "bd644ab3-6682-4d0e-9e28-a753121ce959",
   "metadata": {},
   "outputs": [
    {
     "name": "stdout",
     "output_type": "stream",
     "text": [
      "Matrix Before Modifying View_Slice : \n",
      "[[ 6 17 11]\n",
      " [10 17 17]\n",
      " [15 17 14]]\n",
      "Matrix After Modifying View_Slice : \n",
      "[[   6   17   11]\n",
      " [  10 9999   17]\n",
      " [  15   17   14]]\n"
     ]
    }
   ],
   "source": [
    "#Q77\n",
    "\n",
    "mat=np.asmatrix(np.random.randint(low=5,high=20,size=(3,3)))\n",
    "print(f\"Matrix Before Modifying View_Slice : \\n{mat}\")\n",
    "view_slice=mat[0:2,0:2]  #Slicing the original matrix\n",
    "view_slice[1,1]=9999  #Modifying an elemnt in View Slice\n",
    "print(f\"Matrix After Modifying View_Slice : \\n{mat}\") #Modification changes are reflected in the Original Matrix too"
   ]
  },
  {
   "cell_type": "code",
   "execution_count": 125,
   "id": "2944953c-7f3d-4cc3-84e3-4cb0457b652e",
   "metadata": {},
   "outputs": [
    {
     "name": "stdout",
     "output_type": "stream",
     "text": [
      "Array A before broadcating --> [ 1  2  3  4  5  6  7  8  9 10 11 12]\n",
      "Broadcasting Addition of 5 to Array B --> [ 6  7  8  9 10]\n",
      "Array A After broadcating --> [ 1  2  3  4  5  6  7  8  9 10 11 12]\n"
     ]
    }
   ],
   "source": [
    "#Q78\n",
    "\n",
    "array_a=np.arange(1,13)\n",
    "view_b=array_a[0:5]\n",
    "print(f\"Array A before broadcating --> {array_a}\")\n",
    "print(f\"Broadcasting Addition of 5 to Array B --> {view_b+5}\")\n",
    "print(f\"Array A After broadcating --> {array_a}\")  #No changes where reflected"
   ]
  },
  {
   "cell_type": "code",
   "execution_count": 100,
   "id": "94a32192-97c2-49a8-9970-60003c8501ad",
   "metadata": {},
   "outputs": [
    {
     "name": "stdout",
     "output_type": "stream",
     "text": [
      "Original Array : \n",
      "[[7 1 1 5]\n",
      " [5 8 1 2]]\n",
      "Reshaped Array : \n",
      "[[7 1]\n",
      " [1 5]\n",
      " [5 8]\n",
      " [1 2]]\n",
      "\n",
      "AFTER MODIFICATION \n",
      "\n",
      "Original Array : \n",
      "[[   7    1    1    5]\n",
      " [   5    8    1 -999]]\n",
      "Reshaped Array : \n",
      "[[   7    1]\n",
      " [   1    5]\n",
      " [   5    8]\n",
      " [   1 -999]]\n"
     ]
    }
   ],
   "source": [
    "#Q79\n",
    "\n",
    "orig_array=np.random.randint(low=1,high=9,size=(2,4))\n",
    "reshaped_view=np.reshape(orig_array,(4,2))\n",
    "print(f\"Original Array : \\n{orig_array}\\nReshaped Array : \\n{reshaped_view}\") \n",
    "reshaped_view[3,1]=-999  #Changing an elemnt in Reshaped_view array\n",
    "print(\"\\nAFTER MODIFICATION \\n\")\n",
    "print(f\"Original Array : \\n{orig_array}\\nReshaped Array : \\n{reshaped_view}\") #Modification changes are reflected in the Original Array too"
   ]
  },
  {
   "cell_type": "code",
   "execution_count": 101,
   "id": "14a5dc57-d3d9-46c8-9650-b7cff39fe470",
   "metadata": {},
   "outputs": [
    {
     "name": "stdout",
     "output_type": "stream",
     "text": [
      "[[15 17  4 17]\n",
      " [14 18 13 18]\n",
      " [ 9 17  3  8]]\n",
      "\n",
      " [15 17 17 14 18 13 18  9 17  8]\n",
      "\n",
      "AFTER MODIFICATION \n",
      "\n",
      "\n",
      " [[15 17  4 17]\n",
      " [14 18 13 18]\n",
      " [ 9 17  3  8]]\n"
     ]
    }
   ],
   "source": [
    "#Q80\n",
    "data=np.random.randint(low=1,high=20,size=(3,4))   #Creating an Array of Random integers of size 3x4\n",
    "copy_data=data[data>5] #Creating a copy of the Filtred Array\n",
    "print(data)\n",
    "print(\"\\n\",copy_data)\n",
    "copy_data[5]=777777  #Modifying an element in the copy_data array\n",
    "print(\"\\nAFTER MODIFICATION \\n\")\n",
    "print(\"\\n\",data)  #No effect on the Original data Array"
   ]
  },
  {
   "cell_type": "code",
   "execution_count": 85,
   "id": "a8c863c1-1b5a-4363-8168-49bc8e1f53d7",
   "metadata": {},
   "outputs": [
    {
     "name": "stdout",
     "output_type": "stream",
     "text": [
      "Matrix 1: \n",
      "[[18  8]\n",
      " [15 14]\n",
      " [13 19]]\n",
      "Matrix 2 : \n",
      "[[11 18]\n",
      " [ 9 13]\n",
      " [10 17]]\n",
      "Matrix 1 + Matrix 2 : \n",
      " [[29 26]\n",
      " [24 27]\n",
      " [23 36]]\n",
      "Matrix 1 - Matrix 2 : \n",
      " [[  7 -10]\n",
      " [  6   1]\n",
      " [  3   2]]\n"
     ]
    }
   ],
   "source": [
    "#Q81\n",
    "A,B=np.asmatrix(np.random.randint(low=5,high=20,size=(3,2))),np.asmatrix(np.random.randint(low=5,high=20,size=(3,2)))\n",
    "print(f\"Matrix 1: \\n{A}\\nMatrix 2 : \\n{B}\\nMatrix 1 + Matrix 2 : \\n {A+B}\\nMatrix 1 - Matrix 2 : \\n {A-B}\")"
   ]
  },
  {
   "cell_type": "code",
   "execution_count": 83,
   "id": "70c0aa77-4363-403b-ae7d-782db25e8993",
   "metadata": {},
   "outputs": [
    {
     "name": "stdout",
     "output_type": "stream",
     "text": [
      "Matrix 1: \n",
      "[[ 9  5]\n",
      " [ 5 16]\n",
      " [18 12]]\n",
      "Matrix 2 : \n",
      "[[10  8 13  8]\n",
      " [11 18 18 13]]\n",
      " Matrix 1 X Matrix 2 : \n",
      " [[145 162 207 137]\n",
      " [226 328 353 248]\n",
      " [312 360 450 300]]\n"
     ]
    }
   ],
   "source": [
    "#Q82\n",
    "C,D=np.asmatrix(np.random.randint(low=5,high=20,size=(3,2))),np.asmatrix(np.random.randint(low=5,high=20,size=(2,4)))\n",
    "print(f\"Matrix 1: \\n{C}\\nMatrix 2 : \\n{D}\\n Matrix 1 X Matrix 2 : \\n {C@D}\")"
   ]
  },
  {
   "cell_type": "code",
   "execution_count": 81,
   "id": "29acf53c-f20b-4951-9d54-7686762580fc",
   "metadata": {},
   "outputs": [
    {
     "name": "stdout",
     "output_type": "stream",
     "text": [
      "Matrix : \n",
      "[[18 15 18]\n",
      " [14  7 10]\n",
      " [14 11  8]\n",
      " [14 15 18]]\n",
      " Transpose_of_Matrix : \n",
      "[[18 14 14 14]\n",
      " [15  7 11 15]\n",
      " [18 10  8 18]]\n"
     ]
    }
   ],
   "source": [
    "#Q83\n",
    "E=np.asmatrix(np.random.randint(low=5,high=20,size=(4,3)))\n",
    "print(f\"Matrix : \\n{E}\\n Transpose_of_Matrix : \\n{E.T}\")"
   ]
  },
  {
   "cell_type": "code",
   "execution_count": 80,
   "id": "eba45abe-1065-4dd5-ab29-90bb2aa42822",
   "metadata": {},
   "outputs": [
    {
     "name": "stdout",
     "output_type": "stream",
     "text": [
      "Matrix : \n",
      "[[16  8 17]\n",
      " [ 5 15 14]\n",
      " [18 17  9]]\n",
      " Determinant_of_Matrix : \n",
      "-3137.0000000000014\n"
     ]
    }
   ],
   "source": [
    "#Q84\n",
    "F=np.asmatrix(np.random.randint(low=5,high=20,size=(3,3)))\n",
    "print(f\"Matrix : \\n{F}\\n Determinant_of_Matrix : \\n{na.det(F)}\")"
   ]
  },
  {
   "cell_type": "code",
   "execution_count": 79,
   "id": "79dfe429-d2da-408d-a57d-231aa51354ef",
   "metadata": {},
   "outputs": [
    {
     "name": "stdout",
     "output_type": "stream",
     "text": [
      "Matrix : \n",
      "[[ 9  7 10]\n",
      " [11  8  7]\n",
      " [ 7 11  5]]\n",
      " Inverse_of_Matrix : \n",
      "[[-0.13454545  0.27272727 -0.11272727]\n",
      " [-0.02181818 -0.09090909  0.17090909]\n",
      " [ 0.23636364 -0.18181818 -0.01818182]]\n"
     ]
    }
   ],
   "source": [
    "#Q85\n",
    "G=np.matrix(np.random.randint(low=5,high=12,size=(3,3)))\n",
    "print(f\"Matrix : \\n{G}\\n Inverse_of_Matrix : \\n{na.inv(G)}\")"
   ]
  }
 ],
 "metadata": {
  "kernelspec": {
   "display_name": "Python 3 (ipykernel)",
   "language": "python",
   "name": "python3"
  },
  "language_info": {
   "codemirror_mode": {
    "name": "ipython",
    "version": 3
   },
   "file_extension": ".py",
   "mimetype": "text/x-python",
   "name": "python",
   "nbconvert_exporter": "python",
   "pygments_lexer": "ipython3",
   "version": "3.12.2"
  }
 },
 "nbformat": 4,
 "nbformat_minor": 5
}
